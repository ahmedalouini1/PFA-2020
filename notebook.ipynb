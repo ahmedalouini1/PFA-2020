{
  "nbformat": 4,
  "nbformat_minor": 0,
  "metadata": {
    "colab": {
      "name": "Untitled9.ipynb",
      "provenance": [],
      "private_outputs": true,
      "collapsed_sections": []
    },
    "kernelspec": {
      "name": "python3",
      "display_name": "Python 3"
    },
    "accelerator": "GPU"
  },
  "cells": [
    {
      "cell_type": "code",
      "metadata": {
        "id": "ek_3nzG7n7bd",
        "colab_type": "code",
        "colab": {}
      },
      "source": [
        "import numpy as np\n",
        "import matplotlib.pyplot as plt\n",
        "import torch\n",
        "import torch.nn as nn\n",
        "import torchvision.datasets as datasets\n",
        "import torchvision.transforms as transforms\n",
        "import torch.nn.functional as F\n",
        "from tqdm import tqdm\n",
        "from pylab import rcParams\n",
        "import copy\n",
        "import time\n",
        "%matplotlib inline"
      ],
      "execution_count": null,
      "outputs": []
    },
    {
      "cell_type": "code",
      "metadata": {
        "id": "tANucZYGpF4s",
        "colab_type": "code",
        "colab": {}
      },
      "source": [
        ""
      ],
      "execution_count": null,
      "outputs": []
    },
    {
      "cell_type": "code",
      "metadata": {
        "id": "_Y8CSKmd2SIq",
        "colab_type": "code",
        "colab": {}
      },
      "source": [
        "!git clone https://github.com/ultralytics/yolov3"
      ],
      "execution_count": null,
      "outputs": []
    },
    {
      "cell_type": "code",
      "metadata": {
        "id": "XAP3p4Yw2OCC",
        "colab_type": "code",
        "colab": {}
      },
      "source": [
        "!hwinfo --short"
      ],
      "execution_count": null,
      "outputs": []
    },
    {
      "cell_type": "code",
      "metadata": {
        "id": "8O04A8dXHMVs",
        "colab_type": "code",
        "colab": {}
      },
      "source": [
        "!python -m torch.utils.collect_env"
      ],
      "execution_count": null,
      "outputs": []
    },
    {
      "cell_type": "code",
      "metadata": {
        "id": "9RtgcMxH2puH",
        "colab_type": "code",
        "colab": {}
      },
      "source": [
        "from google.colab import drive\n",
        "drive.mount('/content/drive')"
      ],
      "execution_count": null,
      "outputs": []
    },
    {
      "cell_type": "code",
      "metadata": {
        "id": "Bp_oDHG8smB_",
        "colab_type": "code",
        "colab": {}
      },
      "source": [
        "cd /content/yolov3"
      ],
      "execution_count": null,
      "outputs": []
    },
    {
      "cell_type": "code",
      "metadata": {
        "id": "-AeqbR6K-yhs",
        "colab_type": "code",
        "colab": {}
      },
      "source": [
        "!sudo apt-get install python3.7"
      ],
      "execution_count": null,
      "outputs": []
    },
    {
      "cell_type": "code",
      "metadata": {
        "id": "ChO-2bTuxM-R",
        "colab_type": "code",
        "colab": {}
      },
      "source": [
        "!pip install -U -r requirements.txt"
      ],
      "execution_count": null,
      "outputs": []
    },
    {
      "cell_type": "code",
      "metadata": {
        "id": "la5gwexW8PeZ",
        "colab_type": "code",
        "colab": {}
      },
      "source": [
        "!git clone https://github.com/NVIDIA/apex"
      ],
      "execution_count": null,
      "outputs": []
    },
    {
      "cell_type": "code",
      "metadata": {
        "id": "fLCe3qMVyYkz",
        "colab_type": "code",
        "colab": {}
      },
      "source": [
        "cd /content/yolov3/apex"
      ],
      "execution_count": null,
      "outputs": []
    },
    {
      "cell_type": "code",
      "metadata": {
        "id": "N8QzjxtK8TxZ",
        "colab_type": "code",
        "colab": {}
      },
      "source": [
        "!pip install -v --no-cache-dir ./"
      ],
      "execution_count": null,
      "outputs": []
    },
    {
      "cell_type": "code",
      "metadata": {
        "id": "eVx_Yc8ecMFJ",
        "colab_type": "code",
        "colab": {}
      },
      "source": [
        "cd /content/"
      ],
      "execution_count": null,
      "outputs": []
    },
    {
      "cell_type": "code",
      "metadata": {
        "id": "ytQN4262r8Sm",
        "colab_type": "code",
        "colab": {}
      },
      "source": [
        "!mkdir visual_genome"
      ],
      "execution_count": null,
      "outputs": []
    },
    {
      "cell_type": "code",
      "metadata": {
        "id": "Zl-oXeiZr_Ve",
        "colab_type": "code",
        "colab": {}
      },
      "source": [
        "cd visual_genome"
      ],
      "execution_count": null,
      "outputs": []
    },
    {
      "cell_type": "code",
      "metadata": {
        "id": "BGqpydzEsBgM",
        "colab_type": "code",
        "colab": {}
      },
      "source": [
        "!mkdir images"
      ],
      "execution_count": null,
      "outputs": []
    },
    {
      "cell_type": "code",
      "metadata": {
        "id": "3EL2GNresLUB",
        "colab_type": "code",
        "colab": {}
      },
      "source": [
        "!mkdir labels"
      ],
      "execution_count": null,
      "outputs": []
    },
    {
      "cell_type": "code",
      "metadata": {
        "id": "X0AmTLy6tzUa",
        "colab_type": "code",
        "colab": {}
      },
      "source": [
        "cd /content/images"
      ],
      "execution_count": null,
      "outputs": []
    },
    {
      "cell_type": "code",
      "metadata": {
        "id": "nOPj4BWqt0Vn",
        "colab_type": "code",
        "colab": {}
      },
      "source": [
        "!mkdir train"
      ],
      "execution_count": null,
      "outputs": []
    },
    {
      "cell_type": "code",
      "metadata": {
        "id": "UgeO4IRksOBn",
        "colab_type": "code",
        "colab": {}
      },
      "source": [
        "cd /content/labels"
      ],
      "execution_count": null,
      "outputs": []
    },
    {
      "cell_type": "code",
      "metadata": {
        "id": "imhD3bCAsPIB",
        "colab_type": "code",
        "colab": {}
      },
      "source": [
        "!mkdir train"
      ],
      "execution_count": null,
      "outputs": []
    },
    {
      "cell_type": "code",
      "metadata": {
        "id": "lWy0vEIasR5n",
        "colab_type": "code",
        "colab": {}
      },
      "source": [
        "!mkdir test"
      ],
      "execution_count": null,
      "outputs": []
    },
    {
      "cell_type": "code",
      "metadata": {
        "id": "0Qq3mYVesTp_",
        "colab_type": "code",
        "colab": {}
      },
      "source": [
        "!mkdir val"
      ],
      "execution_count": null,
      "outputs": []
    },
    {
      "cell_type": "code",
      "metadata": {
        "id": "CQ5RnvgzdcYC",
        "colab_type": "code",
        "colab": {}
      },
      "source": [
        "cd /content/"
      ],
      "execution_count": null,
      "outputs": []
    },
    {
      "cell_type": "markdown",
      "metadata": {
        "id": "t8yuuB0ysfyI",
        "colab_type": "text"
      },
      "source": [
        "Downloading our data"
      ]
    },
    {
      "cell_type": "code",
      "metadata": {
        "id": "ow-L7MsP6x8d",
        "colab_type": "code",
        "colab": {}
      },
      "source": [
        "!wget https://cs.stanford.edu/people/rak248/VG_100K_2/images2.zip"
      ],
      "execution_count": null,
      "outputs": []
    },
    {
      "cell_type": "code",
      "metadata": {
        "id": "H05UiPCVrcNa",
        "colab_type": "code",
        "colab": {}
      },
      "source": [
        "!wget https://cs.stanford.edu/people/rak248/VG_100K_2/images.zip"
      ],
      "execution_count": null,
      "outputs": []
    },
    {
      "cell_type": "code",
      "metadata": {
        "id": "U7uUgt3gry-S",
        "colab_type": "code",
        "colab": {}
      },
      "source": [
        "!wget http://visualgenome.org/static/data/dataset/objects_v1_2.json.zip"
      ],
      "execution_count": null,
      "outputs": []
    },
    {
      "cell_type": "markdown",
      "metadata": {
        "id": "tka-YsD1snFj",
        "colab_type": "text"
      },
      "source": [
        "Unzipping our data"
      ]
    },
    {
      "cell_type": "code",
      "metadata": {
        "id": "jJ5P3ztlPYu2",
        "colab_type": "code",
        "colab": {}
      },
      "source": [
        "!unzip \"/content/objects_v1_2.json.zip\" -d \"/content\""
      ],
      "execution_count": null,
      "outputs": []
    },
    {
      "cell_type": "code",
      "metadata": {
        "id": "9IZJ07Cs51uv",
        "colab_type": "code",
        "colab": {}
      },
      "source": [
        "!unzip \"/content/images.zip\" -d \"/content/visual_genome/images\""
      ],
      "execution_count": null,
      "outputs": []
    },
    {
      "cell_type": "code",
      "metadata": {
        "id": "pZ96ko1tt8Zv",
        "colab_type": "code",
        "colab": {}
      },
      "source": [
        "!unzip \"/content/images2.zip\" -d \"/content/visual_genome/images\""
      ],
      "execution_count": null,
      "outputs": []
    },
    {
      "cell_type": "code",
      "metadata": {
        "id": "eyVJqRyIcZKg",
        "colab_type": "code",
        "colab": {}
      },
      "source": [
        "!mv VG_100K_2/* train"
      ],
      "execution_count": null,
      "outputs": []
    },
    {
      "cell_type": "code",
      "metadata": {
        "id": "UAnk2A4StsoB",
        "colab_type": "code",
        "colab": {}
      },
      "source": [
        "!mv VG_100K/* train"
      ],
      "execution_count": null,
      "outputs": []
    },
    {
      "cell_type": "markdown",
      "metadata": {
        "id": "6Zd22gFgu3q_",
        "colab_type": "text"
      },
      "source": [
        "generation our training/validation/testing files "
      ]
    },
    {
      "cell_type": "code",
      "metadata": {
        "id": "RxWcvIliNy13",
        "colab_type": "code",
        "colab": {}
      },
      "source": [
        "import json"
      ],
      "execution_count": null,
      "outputs": []
    },
    {
      "cell_type": "code",
      "metadata": {
        "id": "j0F12KyPN1VO",
        "colab_type": "code",
        "colab": {}
      },
      "source": [
        "f = open(\"/content/objects.json\",\"r\") "
      ],
      "execution_count": null,
      "outputs": []
    },
    {
      "cell_type": "code",
      "metadata": {
        "id": "eqQrFK9oN7lL",
        "colab_type": "code",
        "colab": {}
      },
      "source": [
        "data = json.load(f) "
      ],
      "execution_count": null,
      "outputs": []
    },
    {
      "cell_type": "code",
      "metadata": {
        "id": "iDQPR4gON5fV",
        "colab_type": "code",
        "colab": {}
      },
      "source": [
        "f.close()"
      ],
      "execution_count": null,
      "outputs": []
    },
    {
      "cell_type": "code",
      "metadata": {
        "id": "_tINO6orOBKu",
        "colab_type": "code",
        "colab": {}
      },
      "source": [
        "f1 = open(\"/content/yolov3/data/visualgenome.names\",\"r\") \n",
        "content = f1.readlines()\n",
        "f1.close()"
      ],
      "execution_count": null,
      "outputs": []
    },
    {
      "cell_type": "code",
      "metadata": {
        "id": "zGMNq9-vRRnh",
        "colab_type": "code",
        "colab": {}
      },
      "source": [
        "f_image = open(\"/content/image_data.json\",\"r\") \n",
        "image_data = json.load(f_image) \n",
        "f_image.close()"
      ],
      "execution_count": null,
      "outputs": []
    },
    {
      "cell_type": "code",
      "metadata": {
        "id": "WVlFkg1wOVrT",
        "colab_type": "code",
        "colab": {}
      },
      "source": [
        "fim = open(\"/content/yolov3/data/visualgenome_train.txt\",\"w\")\n",
        "fim.close()"
      ],
      "execution_count": null,
      "outputs": []
    },
    {
      "cell_type": "code",
      "metadata": {
        "id": "6f6XzmthwR-q",
        "colab_type": "code",
        "colab": {}
      },
      "source": [
        "fim = open(\"/content/yolov3/data/visualgenome_test.txt\",\"w\")\n",
        "fim.close()"
      ],
      "execution_count": null,
      "outputs": []
    },
    {
      "cell_type": "code",
      "metadata": {
        "id": "I86nGKFCw72j",
        "colab_type": "code",
        "colab": {}
      },
      "source": [
        "fim = open(\"/content/yolov3/data/visualgenome_val.txt\",\"w\")\n",
        "fim.close()"
      ],
      "execution_count": null,
      "outputs": []
    },
    {
      "cell_type": "markdown",
      "metadata": {
        "id": "yBxEhTp9xSuD",
        "colab_type": "text"
      },
      "source": [
        "training 60k images"
      ]
    },
    {
      "cell_type": "code",
      "metadata": {
        "id": "9NMRO6NH8AAu",
        "colab_type": "code",
        "colab": {}
      },
      "source": [
        "  import os\n",
        "  image_ids=[]\n",
        "  import os.path\n",
        "  from os import path\n",
        "  line = \"\"\n",
        "  i = 0\n",
        "  for sample in data:\n",
        "    path_to=\"\"\n",
        "    \n",
        "    for img in image_data: \n",
        "      if sample[\"image_id\"]==img[\"image_id\"]:\n",
        "        image_width= img[\"width\"]\n",
        "        image_height= img[\"height\"]\n",
        "\n",
        "    if path.isfile(\"/content/visual_genome/images/train/\"+str(sample[\"image_id\"])+\".jpg\"):\n",
        "      i+=1   \n",
        "      path_to+= '/content/visual_genome/labels/train/'\n",
        "      path_to+= str(sample[\"image_id\"])\n",
        "      path_to+='.txt'\n",
        "      jsp='/content/visual_genome/labels/train'\n",
        "      for obj in sample[\"objects\"]:\n",
        "          dw = 1./image_width\n",
        "          dh = 1./image_height\n",
        "          \n",
        "          x_center = \"{:.5f}\".format((obj[\"x\"]+(obj[\"w\"]/2.0))*dw)\n",
        "            \n",
        "          y_center= \"{:.5f}\".format((obj[\"y\"]+(obj[\"h\"])/2.0)*dh)\n",
        "          \n",
        "          height = \"{:.5f}\".format(obj[\"h\"]*dh)\n",
        "\n",
        "          width = \"{:.5f}\".format(obj[\"w\"]*dw)\n",
        "          for name in obj[\"names\"] :\n",
        "            #  print(name + \"|\"+\"x=\"+str(obj[\"x\"])+\"|y=\"+str(obj[\"y\"])+\"|w=\"+str(obj[\"w\"])+\"|h=\"+str(obj[\"h\"])+\"|\"+str(x_min)+\",\"+str(y_min)+\",\"+str(x_max)+\",\"+str(y_max))\n",
        "            new_name=name+\"\\n\"\n",
        "            if new_name in content :\n",
        "              if sample[\"image_id\"] not in image_ids:\n",
        "                image_ids.append(sample[\"image_id\"])\n",
        "                f_sample = open(path_to,\"w\") \n",
        "                f_sample.close()\n",
        "                fim = open(\"/content/yolov3/data/visualgenome_train.txt\",\"a\")\n",
        "                if os.stat(\"/content/yolov3/data/visualgenome_train.txt\").st_size != 0 :\n",
        "                  fim.write(\"\\n\")\n",
        "                fim.write(\"/content/visual_genome/images/train/\"+str(sample[\"image_id\"])+\".jpg\")\n",
        "                fim.close()  \n",
        "              # ch = \"x= {} y= {} image_id= {} name= {} x_norm= {} y_norm= {} \".format(obj[\"x\"],obj[\"y\"],sample[\"image_id\"],name,x_center,y_center)\n",
        "              #  print(ch)\n",
        "              line=\"\"\n",
        "              obj_id = content.index(new_name)\n",
        "              line+=str(obj_id)+\" \"+str(x_center)+\" \"+str(y_center)+\" \"+str(width)+\" \"+str(height)\n",
        "              f_sample = open(path_to,\"a\") \n",
        "              if os.stat(path_to).st_size != 0 :\n",
        "                  f_sample.write(\"\\n\")\n",
        "              f_sample.write(line)\n",
        "              f_sample.close()   \n",
        "    print(i)\n",
        "    if i==60000:\n",
        "      break\n",
        "  \n"
      ],
      "execution_count": null,
      "outputs": []
    },
    {
      "cell_type": "markdown",
      "metadata": {
        "id": "xsXJ_4jFxZ6f",
        "colab_type": "text"
      },
      "source": [
        "testing 10k images"
      ]
    },
    {
      "cell_type": "code",
      "metadata": {
        "id": "3zAzZ5euwjcG",
        "colab_type": "code",
        "colab": {}
      },
      "source": [
        "  line = \"\"\n",
        "  i = 0\n",
        "  for sample in data:\n",
        "    path_to=\"\"\n",
        "    \n",
        "    for img in image_data: \n",
        "      if sample[\"image_id\"]==img[\"image_id\"]:\n",
        "        image_width= img[\"width\"]\n",
        "        image_height= img[\"height\"]\n",
        "\n",
        "    if path.isfile(\"/content/visual_genome/images/train/\"+str(sample[\"image_id\"])+\".jpg\"):\n",
        "      i+=1   \n",
        "      path_to+= '/content/visual_genome/labels/test/'\n",
        "      path_to+= str(sample[\"image_id\"])\n",
        "      path_to+='.txt'\n",
        "      jsp='/content/visual_genome/labels/test'\n",
        "      for obj in sample[\"objects\"]:\n",
        "          dw = 1./image_width\n",
        "          dh = 1./image_height\n",
        "          \n",
        "          x_center = \"{:.5f}\".format((obj[\"x\"]+(obj[\"w\"]/2.0))*dw)\n",
        "            \n",
        "          y_center= \"{:.5f}\".format((obj[\"y\"]+(obj[\"h\"])/2.0)*dh)\n",
        "          \n",
        "          height = \"{:.5f}\".format(obj[\"h\"]*dh)\n",
        "\n",
        "          width = \"{:.5f}\".format(obj[\"w\"]*dw)\n",
        "          for name in obj[\"names\"] :\n",
        "            #  print(name + \"|\"+\"x=\"+str(obj[\"x\"])+\"|y=\"+str(obj[\"y\"])+\"|w=\"+str(obj[\"w\"])+\"|h=\"+str(obj[\"h\"])+\"|\"+str(x_min)+\",\"+str(y_min)+\",\"+str(x_max)+\",\"+str(y_max))\n",
        "            new_name=name+\"\\n\"\n",
        "            if new_name in content :\n",
        "              if sample[\"image_id\"] not in image_ids:\n",
        "                image_ids.append(sample[\"image_id\"])\n",
        "                f_sample = open(path_to,\"w\") \n",
        "                f_sample.close()\n",
        "                fim = open(\"/content/yolov3/data/visualgenome_test.txt\",\"a\")\n",
        "                if os.stat(\"/content/yolov3/data/visualgenome_test.txt\").st_size != 0 :\n",
        "                  fim.write(\"\\n\")\n",
        "                fim.write(\"/content/visual_genome/images/train/\"+str(sample[\"image_id\"])+\".jpg\")\n",
        "                fim.close()  \n",
        "              # ch = \"x= {} y= {} image_id= {} name= {} x_norm= {} y_norm= {} \".format(obj[\"x\"],obj[\"y\"],sample[\"image_id\"],name,x_center,y_center)\n",
        "              #  print(ch)\n",
        "              line=\"\"\n",
        "              obj_id = content.index(new_name)\n",
        "              line+=str(obj_id)+\" \"+str(x_center)+\" \"+str(y_center)+\" \"+str(width)+\" \"+str(height)\n",
        "              f_sample = open(path_to,\"a\") \n",
        "              if os.stat(path_to).st_size != 0 :\n",
        "                  f_sample.write(\"\\n\")\n",
        "              f_sample.write(line)\n",
        "              f_sample.close()   \n",
        "    print(i)\n",
        "    if i==10000:\n",
        "      break"
      ],
      "execution_count": null,
      "outputs": []
    },
    {
      "cell_type": "markdown",
      "metadata": {
        "id": "O06QjCWVxmIy",
        "colab_type": "text"
      },
      "source": [
        "validation 30k images"
      ]
    },
    {
      "cell_type": "code",
      "metadata": {
        "id": "aNTjANyIxAo_",
        "colab_type": "code",
        "colab": {}
      },
      "source": [
        "  line = \"\"\n",
        "  i = 0\n",
        "  for sample in data:\n",
        "    path_to=\"\"\n",
        "    \n",
        "    for img in image_data: \n",
        "      if sample[\"image_id\"]==img[\"image_id\"]:\n",
        "        image_width= img[\"width\"]\n",
        "        image_height= img[\"height\"]\n",
        "\n",
        "    if path.isfile(\"/content/visual_genome/images/train/\"+str(sample[\"image_id\"])+\".jpg\"):\n",
        "      i+=1   \n",
        "      path_to+= '/content/visual_genome/labels/val/'\n",
        "      path_to+= str(sample[\"image_id\"])\n",
        "      path_to+='.txt'\n",
        "      jsp='/content/visual_genome/labels/val'\n",
        "      for obj in sample[\"objects\"]:\n",
        "          dw = 1./image_width\n",
        "          dh = 1./image_height\n",
        "          \n",
        "          x_center = \"{:.5f}\".format((obj[\"x\"]+(obj[\"w\"]/2.0))*dw)\n",
        "            \n",
        "          y_center= \"{:.5f}\".format((obj[\"y\"]+(obj[\"h\"])/2.0)*dh)\n",
        "          \n",
        "          height = \"{:.5f}\".format(obj[\"h\"]*dh)\n",
        "\n",
        "          width = \"{:.5f}\".format(obj[\"w\"]*dw)\n",
        "          for name in obj[\"names\"] :\n",
        "            #  print(name + \"|\"+\"x=\"+str(obj[\"x\"])+\"|y=\"+str(obj[\"y\"])+\"|w=\"+str(obj[\"w\"])+\"|h=\"+str(obj[\"h\"])+\"|\"+str(x_min)+\",\"+str(y_min)+\",\"+str(x_max)+\",\"+str(y_max))\n",
        "            new_name=name+\"\\n\"\n",
        "            if new_name in content :\n",
        "              if sample[\"image_id\"] not in image_ids:\n",
        "                image_ids.append(sample[\"image_id\"])\n",
        "                f_sample = open(path_to,\"w\") \n",
        "                f_sample.close()\n",
        "                fim = open(\"/content/yolov3/data/visualgenome_val.txt\",\"a\")\n",
        "                if os.stat(\"/content/yolov3/data/visualgenome_val.txt\").st_size != 0 :\n",
        "                  fim.write(\"\\n\")\n",
        "                fim.write(\"/content/visual_genome/images/train/\"+str(sample[\"image_id\"])+\".jpg\")\n",
        "                fim.close()  \n",
        "              # ch = \"x= {} y= {} image_id= {} name= {} x_norm= {} y_norm= {} \".format(obj[\"x\"],obj[\"y\"],sample[\"image_id\"],name,x_center,y_center)\n",
        "              #  print(ch)\n",
        "              line=\"\"\n",
        "              obj_id = content.index(new_name)\n",
        "              line+=str(obj_id)+\" \"+str(x_center)+\" \"+str(y_center)+\" \"+str(width)+\" \"+str(height)\n",
        "              f_sample = open(path_to,\"a\") \n",
        "              if os.stat(path_to).st_size != 0 :\n",
        "                  f_sample.write(\"\\n\")\n",
        "              f_sample.write(line)\n",
        "              f_sample.close()   \n",
        "    print(i)\n",
        "    if i==30000:\n",
        "      break"
      ],
      "execution_count": null,
      "outputs": []
    },
    {
      "cell_type": "code",
      "metadata": {
        "id": "AOU9BiNmeCoH",
        "colab_type": "code",
        "colab": {}
      },
      "source": [
        "cd /content/"
      ],
      "execution_count": null,
      "outputs": []
    },
    {
      "cell_type": "code",
      "metadata": {
        "id": "gv-KyWgl5FBE",
        "colab_type": "code",
        "colab": {}
      },
      "source": [
        "import torch\n",
        "torch.cuda.empty_cache()"
      ],
      "execution_count": null,
      "outputs": []
    },
    {
      "cell_type": "code",
      "metadata": {
        "id": "Pw-vex3EE5oE",
        "colab_type": "code",
        "colab": {}
      },
      "source": [
        "torch.cuda.set_device(0)"
      ],
      "execution_count": null,
      "outputs": []
    },
    {
      "cell_type": "code",
      "metadata": {
        "id": "3IR2WY5XO-dN",
        "colab_type": "code",
        "colab": {}
      },
      "source": [
        "cd /content/yolov3"
      ],
      "execution_count": null,
      "outputs": []
    },
    {
      "cell_type": "markdown",
      "metadata": {
        "id": "pxO8zx7-zcbG",
        "colab_type": "text"
      },
      "source": [
        "training and testing for 175 epochs"
      ]
    },
    {
      "cell_type": "code",
      "metadata": {
        "id": "L8-syextkJ5l",
        "colab_type": "code",
        "colab": {}
      },
      "source": [
        "!python3 train.py --cfg yolov3.cfg --batch-size 32  --epochs 175 --data /content/yolov3/data/visualgenome.data --weights yolov3.pt"
      ],
      "execution_count": null,
      "outputs": []
    },
    {
      "cell_type": "code",
      "metadata": {
        "id": "grSn_Usvk7SM",
        "colab_type": "code",
        "colab": {}
      },
      "source": [
        "cd /content/yolov3/"
      ],
      "execution_count": null,
      "outputs": []
    },
    {
      "cell_type": "markdown",
      "metadata": {
        "id": "W3faFr24qQR_",
        "colab_type": "text"
      },
      "source": [
        "Model pruning added to train.py"
      ]
    },
    {
      "cell_type": "code",
      "metadata": {
        "id": "eTuifQRWpIw3",
        "colab_type": "code",
        "colab": {}
      },
      "source": [
        "def weight_prune(model, pruning_percentage, test_dl):\n",
        "    model1 = copy.deepcopy(model)\n",
        "    length = len(list(model1.parameters()))\n",
        "    for i, param in enumerate(model1.parameters()):\n",
        "        if len(param.size())!=1 and i<length-2:\n",
        "            weight = param.detach().cpu().numpy()\n",
        "            weight[np.abs(weight)<np.percentile(np.abs(weight), pruning_percentage)] = 0\n",
        "            weight = torch.from_numpy(weight).to(device)\n",
        "            param.data = weight\n",
        "    return test(model1, test_dl)"
      ],
      "execution_count": null,
      "outputs": []
    },
    {
      "cell_type": "code",
      "metadata": {
        "id": "nPoCWrKUpI3O",
        "colab_type": "code",
        "colab": {}
      },
      "source": [
        "pruning_percent = [0, 25, 50, 60, 70, 80, 90, 95, 97, 99]\n"
      ],
      "execution_count": null,
      "outputs": []
    },
    {
      "cell_type": "code",
      "metadata": {
        "id": "Dn8NXLLzpI9Y",
        "colab_type": "code",
        "colab": {}
      },
      "source": [
        "accuracy_weight_pruning = []\n",
        "for percent in pruning_percent:\n",
        "    accuracy_weight_pruning.append(weight_prune(model, percent, test_dl)"
      ],
      "execution_count": null,
      "outputs": []
    },
    {
      "cell_type": "code",
      "metadata": {
        "id": "mHFXM1c4pI8U",
        "colab_type": "code",
        "colab": {}
      },
      "source": [
        "rcParams['figure.figsize'] = 12, 8\n",
        "plt.plot(pruning_percent, np.size(pruning_percent)*[original_accuracy], 'r',\n",
        "         pruning_percent, accuracy_weight_pruning, 'b')\n",
        "plt.grid()\n",
        "plt.legend([['Original Accuracy'], \n",
        "            ['Accuracy with weight pruning']],\n",
        "           loc='lower left', fontsize='xx-large')\n",
        "plt.xlabel('Pruning Percentage', fontsize='xx-large')\n",
        "plt.ylabel('Accuracy', fontsize='xx-large')\n",
        "plt.xticks(pruning_percent)\n",
        "plt.yticks(np.arange(0, 1.05, 0.05))\n",
        "plt.show()"
      ],
      "execution_count": null,
      "outputs": []
    },
    {
      "cell_type": "code",
      "metadata": {
        "id": "zvMZ8gOOpI2F",
        "colab_type": "code",
        "colab": {}
      },
      "source": [
        "def neuron_pruning(model, pruning_percentage, test_dl):\n",
        "    model1 = copy.deepcopy(model)\n",
        "    length = len(list(model1.parameters()))\n",
        "    for i, param in enumerate(model1.parameters()):\n",
        "        if len(param.size())!=1 and i<length-2:\n",
        "            weight = param.detach().cpu().numpy()\n",
        "            norm = np.linalg.norm(weight, axis=0)\n",
        "            weight[:, np.argwhere(norm<np.percentile(norm, pruning_percentage))] = 0\n",
        "            weight = torch.from_numpy(weight).to(device)\n",
        "            param.data = weight\n",
        "    return test(model1, test_dl)"
      ],
      "execution_count": null,
      "outputs": []
    },
    {
      "cell_type": "code",
      "metadata": {
        "id": "rheV6qMppIvh",
        "colab_type": "code",
        "colab": {}
      },
      "source": [
        "accuracy_neuron_pruning = []\n",
        "for percent in pruning_percent:\n",
        "    accuracy_neuron_pruning.append(neuron_pruning(model, percent, test_dl))"
      ],
      "execution_count": null,
      "outputs": []
    },
    {
      "cell_type": "markdown",
      "metadata": {
        "id": "ZPGOF6Mc0Yt8",
        "colab_type": "text"
      },
      "source": [
        "detection"
      ]
    },
    {
      "cell_type": "code",
      "metadata": {
        "id": "_J6wmyRjNZ5C",
        "colab_type": "code",
        "colab": {}
      },
      "source": [
        "from utils import utils; utils.plot_results()"
      ],
      "execution_count": null,
      "outputs": []
    },
    {
      "cell_type": "code",
      "metadata": {
        "id": "0x2SjdYBFKox",
        "colab_type": "code",
        "colab": {}
      },
      "source": [
        "!python3 detect.py --cfg yolov3.cfg  --source /content/yolov3/data/samples/285604.jpg"
      ],
      "execution_count": null,
      "outputs": []
    },
    {
      "cell_type": "code",
      "metadata": {
        "id": "rfUrnvjy18os",
        "colab_type": "code",
        "colab": {}
      },
      "source": [
        "import matplotlib.pyplot as plt\n",
        "import matplotlib.image as mpimg\n",
        "img=mpimg.imread('/content/yolov3/output/285604.jpg')\n",
        "imgplot = plt.imshow(img)\n",
        "plt.show()"
      ],
      "execution_count": null,
      "outputs": []
    }
  ]
}